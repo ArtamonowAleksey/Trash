{
 "cells": [
  {
   "cell_type": "markdown",
   "metadata": {},
   "source": [
    "### Большая шпаргалка"
   ]
  },
  {
   "cell_type": "markdown",
   "metadata": {},
   "source": [
    "### Get unique elements from a list or string"
   ]
  },
  {
   "cell_type": "code",
   "execution_count": null,
   "metadata": {},
   "outputs": [],
   "source": [
    "mylist = [1, 1, 2, 3, 4, 5, 5, 5, 6, 6]\n",
    "print (set(mylist))"
   ]
  },
  {
   "cell_type": "markdown",
   "metadata": {},
   "source": [
    "### Find the most frequently occurring value"
   ]
  },
  {
   "cell_type": "code",
   "execution_count": null,
   "metadata": {},
   "outputs": [],
   "source": [
    "test = [1, 2, 3, 4, 2, 2, 3, 1, 4, 4, 4]\n",
    "print(max(set(test), key = test.count))\n"
   ]
  },
  {
   "cell_type": "markdown",
   "metadata": {},
   "source": [
    "### List Comprehensions and Check memory usage of your objects"
   ]
  },
  {
   "cell_type": "code",
   "execution_count": null,
   "metadata": {},
   "outputs": [],
   "source": [
    "import sys\n",
    "\n",
    "filtered = [i for i in range(20) if i%2==0]\n",
    "#also with conditionals \n",
    "\n",
    "mulist = ['Yes' if i==1 else 'No' for i in range(1,10)]\n",
    "myreallist = [x for x in range(0, 10000)]\n",
    "print(sys.getsizeof(myreallist))"
   ]
  },
  {
   "cell_type": "markdown",
   "metadata": {},
   "source": [
    "### Dictionaries iter"
   ]
  },
  {
   "cell_type": "code",
   "execution_count": null,
   "metadata": {},
   "outputs": [],
   "source": [
    "for name, score in scores.items():\n",
    "    print(\"Student Name: \" + name + \", Score: \" + str(score))\n",
    "# The same for values \n",
    "for score in scores.values():\n",
    "    print(score)"
   ]
  },
  {
   "cell_type": "markdown",
   "metadata": {},
   "source": [
    "### Enumerate"
   ]
  },
  {
   "cell_type": "code",
   "execution_count": null,
   "metadata": {},
   "outputs": [],
   "source": [
    "grades = [\"Freshman\", \"Sophomore\", \"Junior\", \"Senior\"]\n",
    "\n",
    "for year, name in enumerate(grades, start=1):\n",
    "    print(\"Year \" + str(year) + \": \" + name)"
   ]
  },
  {
   "cell_type": "markdown",
   "metadata": {},
   "source": [
    "### ZIP,MAP,Apply"
   ]
  },
  {
   "cell_type": "code",
   "execution_count": 10,
   "metadata": {
    "ExecuteTime": {
     "end_time": "2020-01-24T19:57:32.894360Z",
     "start_time": "2020-01-24T19:57:32.863129Z"
    }
   },
   "outputs": [
    {
     "name": "stdout",
     "output_type": "stream",
     "text": [
      "[(1, 'John'), (3, 'Mike'), (2, 'Sandra'), (4, 'Jennifer')]\n"
     ]
    }
   ],
   "source": [
    "names = [\"John\", \"Mike\", \"Sandra\", \"Jennifer\"]\n",
    "ids = [1, 3, 2, 4]\n",
    "\n",
    "print([student for student in zip(ids,names)])\n",
    "\n",
    "map(function, something_iterable)\n",
    "\n",
    "def upper(s):\n",
    "    return s.upper()\n",
    "    \n",
    "mylist = list(map(upper, ['sentence', 'fragment']))\n",
    "print(mylist)\n",
    "\n",
    "s = pd.read_csv(\"test.csv\") \n",
    "\n",
    "def fun(num): \n",
    "  \n",
    "    if num<200: \n",
    "        return \"Low\"\n",
    "  \n",
    "    elif num>= 200 and num<400: \n",
    "        return \"Normal\"\n",
    "  \n",
    "    else: \n",
    "        return \"High\"\n",
    "  \n",
    "# passing function to apply and storing returned series in new \n",
    "new = s.apply(fun)\n",
    "\n",
    "# Or lambda\n",
    "\n",
    "new = s.apply(lambda num : num + 5) "
   ]
  },
  {
   "cell_type": "markdown",
   "metadata": {},
   "source": [
    "### args and kwargs"
   ]
  },
  {
   "cell_type": "code",
   "execution_count": null,
   "metadata": {},
   "outputs": [],
   "source": [
    "def my_func(*args):\n",
    "  # Iterating over the Python args tuple\n",
    "  for count, fruit in enumerate(args):\n",
    "    print( '{0}. {1}'.format(count, fruit))\n",
    "my_func('mango', 'orange', 'apple')\n",
    "\n",
    "def my_func(**kwargs):\n",
    "  result = 0\n",
    "  # Iterating over the Python kwargs dictionary\n",
    "  for grocery in kwargs.values():\n",
    "    result += grocery\n",
    "  return result\n",
    "    \n",
    "\n",
    "print(my_func(bananas =4 , cabbage= 6, mangoes = 7))\n",
    "\n",
    "# Unpack a list\n",
    "my_list = [\"oranges\", \"mangoes\", \"tomatoes\", \"bananas\"]\n",
    "# print unpacked list\n",
    "print(*my_list)\n",
    "\n",
    "# Merging lists\n",
    "\n",
    "list_1 = [1, 2, 3, 4]\n",
    "list_2 = [5, 6, 7, 8]\n",
    "final_list = [*list_1, *list_2]\n",
    "\n",
    "# Merging dictionariesabs\n",
    "\n",
    "dict_1 = {\"mangoes\":4, \"apples\":5, \"bananas\":6}\n",
    "dict_2 = {\"lemons\":7, \"carrots\":\"None\"}\n",
    "dict_3 = {\"bread\":2, \"tomatoes\":15}\n",
    "final_dict = {**dict_1, **dict_2, **dict_3}\n",
    "\n",
    "print(final_dict)"
   ]
  },
  {
   "cell_type": "markdown",
   "metadata": {},
   "source": [
    "# DateTime"
   ]
  },
  {
   "cell_type": "code",
   "execution_count": 7,
   "metadata": {
    "ExecuteTime": {
     "end_time": "2020-01-24T18:27:53.546729Z",
     "start_time": "2020-01-24T18:27:53.531140Z"
    }
   },
   "outputs": [],
   "source": [
    "from datetime import datetime\n",
    "from datetime import timedelta\n",
    "\n",
    "#String to date conversion\n",
    "date_string = '2016-02-01 12:00PM'\n",
    "print(datetime.strptime(date_string, '%Y-%m-%d %I:%M%p'))\n",
    "\n",
    "date_string = '02/01/2016'\n",
    "d2 = datetime.strptime(date_string, '%m/%d/%Y')\n",
    "print(d2)\n",
    "\n",
    "#Difference in datetime calculation\n",
    "\n",
    "d = datetime.now()\n",
    "date_string = '2/01/2016'\n",
    "d2 = datetime.strptime(date_string, '%m/%d/%Y')\n",
    "print(d - d2)\n",
    "\n",
    "date_diff = (d - d2)/timedelta(days=1)\n",
    "print('date_diff = {} days'.format(date_diff))\n",
    "\n",
    "ate_diff = (d - d2)/timedelta(weeks=1)\n",
    "print('date_diff = {} weeks'.format(date_diff))\n",
    "\n",
    "date_diff = (d - d2)/timedelta(days=365)\n",
    "print('date_diff = {} years'.format(date_diff))\n",
    "\n",
    "#Datetime plus/minus a certain period of time\n",
    "\n",
    "print(d + timedelta(seconds=1)) # today + one second\n",
    "print(d + timedelta(minutes=1)) # today + one minute\n",
    "print(d + timedelta(hours=1)) # today + one hour\n",
    "print(d + timedelta(days=1)) # today + one day\n",
    "print(d + timedelta(weeks=1)) # today + one week\n",
    "print(d + timedelta(days=1)*365) # today + one year\n",
    "\n",
    "#Datetime comparison\n",
    "\n",
    "print(d < (d2 +(timedelta(days=365*6)))) # d is no more than 6 years (assume each year has 365 days) after d2?\n",
    "print(d > (d2 +(timedelta(weeks=52*6)))) # d is more than 6 years (assume each year has 52 weeks) after d2?\n",
    "print(d != d2) # d2 is not the same date as d?\n",
    "print(d == d2) # d2 is the same date as d?\n"
   ]
  },
  {
   "cell_type": "markdown",
   "metadata": {},
   "source": [
    "### Pandas Basics"
   ]
  },
  {
   "cell_type": "code",
   "execution_count": null,
   "metadata": {},
   "outputs": [],
   "source": [
    "df.fillna(0)\n",
    "df.isnull()\n",
    "\n",
    "# Renameabs\n",
    "newcols = {\n",
    " ‘NAMe’: ‘Name’,\n",
    " ‘AGe’: ‘Age’\n",
    " }\n",
    "# Use `rename()` to rename your columns\n",
    "df.rename(columns=newcols, inplace=True)\n",
    "\n",
    "df_filter = df['ID'].isin(['A001','C022',...])\n",
    "Df_1.groupby(['season']).agg({'windspeed':[sum,min],'datetime':'first'})\n",
    "Df_1.groupby(['season']).agg({'windspeed':lambda x:max(x)+,'datetime':'first'})\n",
    "Df['windspeed'].apply(lambda x:x/60)\n",
    "df['col3'] = df.apply(lambda row: row[1] if row[0] > row[1] else row[0], axis=1)\n",
    "data.drop(labels='Column',axis=1)\n",
    "Df_1['start station id'].isnull().sum()\n",
    "\n",
    "df['Control'] = ['P' if x in Cat_positive else 'N' if x in Cat_negative else 'T' for x in df['Cat']]\n",
    "Tot_Table['date']=Tot_Table['dateTime'].apply(lambda x: dt.datetime.strptime(x,'%Y-%m-%d %H:%M:%S').date())\n",
    "\n",
    "Piv_Table[(Piv_Table['year']=='2019') &(Piv_Table['month']==Piv_Table['month'].max())]\\\n",
    ".groupby(['Category'])[['fiscalDocumentNumber']].nunique().reset_index()\n"
   ]
  },
  {
   "cell_type": "markdown",
   "metadata": {},
   "source": [
    "### CSV File reading "
   ]
  },
  {
   "cell_type": "code",
   "execution_count": null,
   "metadata": {},
   "outputs": [],
   "source": [
    "import pandas as pd \n",
    "\n",
    "path = 'test.csv'\n",
    "\n",
    "def csv_reader(path):\n",
    "    with open(path,encoding='utf-8') as op:\n",
    "        csv_table = pd.read_csv(path,encoding='utf-8',sep=';')\n",
    "    return csv_table"
   ]
  },
  {
   "cell_type": "markdown",
   "metadata": {},
   "source": [
    "### DB Connection"
   ]
  },
  {
   "cell_type": "code",
   "execution_count": null,
   "metadata": {},
   "outputs": [],
   "source": [
    "import psycopg2 as ps\n",
    "from sqlalchemy import create_engine\n",
    "import pandas as pd \n",
    "\n",
    "host = ' '\n",
    "database = ' '\n",
    "user = ' '\n",
    "password = ' '\n",
    "port = ' '\n",
    "\n",
    "#import from DB table to csv\n",
    "\n",
    "def db_table_to_csv(host,database,user,password,table_from_db,path_to):\n",
    "    query = f\"select * from {table_from_db}\"\n",
    "    conn = ps.connect(host = host,database=database, user=user ,password=password)\n",
    "    sql_table = pd.read_sql(query,conn)\n",
    "    sql_table.to_csv(f'{path_to}',sep=';',encoding='utf-8')\n",
    "    conn.close() \n",
    "\n",
    "#Export to DB table from PandasDataFrame\n",
    "\n",
    "def postgress_loader(host,database,user,password,port,db_table_load,csv_table):\n",
    "    conn = ps.connect(host=host,database=database, user=user, password=password,port = port)\n",
    "    engine_1 = create_engine(f'postgresql://{user}:{password}@{host}:{port}/{database}')\n",
    "    csv_table.to_sql(db_table_load, engine_1, if_exists='replace',index=False)\n",
    "    conn.close()\n",
    "\n",
    "# Update DB Tableabs\n",
    "\n",
    "def update_db_event_links(host,database,user,password,db_table_update,db_table_from_update):\n",
    "    query_update = f\"\"\"update  {db_table_update} set status = 'Loaded' where link in(select distinct \"Link\" from {db_table_from_update})\"\"\"\n",
    "    conn = ps.connect(host=host,database=database, user=user, password=password,port = port)\n",
    "    cur = conn.cursor()\n",
    "    cur.execute(query_update)\n",
    "    conn.close()\n",
    "    \n",
    "# For execute many queries in one method \n",
    "\n",
    "cursor.executescript(\"\"\"\n",
    " insert into Artist values (Null, 'A Aagrh!');\n",
    " insert into Artist values (Null, 'A Aagrh-2!');\n",
    "\"\"\")\n",
    "\n",
    "# Use with \n",
    "\n",
    "with psycopg2.connect(\"dbname='habr'\") as conn:\n",
    "    with conn.cursor() as cur:\n",
    "    \n",
    "# for more different connection \n",
    "# https://towardsdatascience.com/connecting-python-to-oracle-sql-server-mysql-and-postgresql-ea1e4523b1e9\n"
   ]
  },
  {
   "cell_type": "markdown",
   "metadata": {},
   "source": [
    "### Send email"
   ]
  },
  {
   "cell_type": "code",
   "execution_count": null,
   "metadata": {},
   "outputs": [],
   "source": [
    "import smtplib as sm\n",
    "import psycopg2 as ps\n",
    "from sqlalchemy import create_engine\n",
    "from email.mime.text import MIMEText\n",
    "from email.mime.multipart import MIMEMultipart\n",
    "\n",
    "port = \n",
    "smtp_server = ' '\n",
    "pas = ' '\n",
    "sender = ' '\n",
    "recievers = ['@gmail.com']\n",
    "\n",
    "message = MIMEMultipart('alternative')\n",
    "\n",
    "message['From'] = ''\n",
    "message['Subject'] = ''\n",
    "\n",
    "html = \" Hello world\"\n",
    "part = MIMEText(html, \"html\")\n",
    "message.attach(part)\n",
    "\n",
    "with sm.SMTP(smtp_server, port) as server:\n",
    "    server.starttls()\n",
    "    server.login(sender,pas)\n",
    "    server.sendmail(sender,recievers,message.as_string())\n"
   ]
  },
  {
   "cell_type": "markdown",
   "metadata": {},
   "source": [
    "### Excel"
   ]
  },
  {
   "cell_type": "code",
   "execution_count": null,
   "metadata": {},
   "outputs": [],
   "source": [
    "from openpyxl import load_workbook\n",
    "\n",
    "with pd.ExcelWriter('test.xlsx', engine='openpyxl') as writer:\n",
    "    writer.book = load_workbook('test.xlsx')\n",
    "    df.to_excel(writer, 'DATA',index=False)"
   ]
  },
  {
   "cell_type": "code",
   "execution_count": null,
   "metadata": {},
   "outputs": [],
   "source": []
  }
 ],
 "metadata": {
  "kernelspec": {
   "display_name": "Python 3 (ipykernel)",
   "language": "python",
   "name": "python3"
  },
  "language_info": {
   "codemirror_mode": {
    "name": "ipython",
    "version": 3
   },
   "file_extension": ".py",
   "mimetype": "text/x-python",
   "name": "python",
   "nbconvert_exporter": "python",
   "pygments_lexer": "ipython3",
   "version": "3.9.12"
  }
 },
 "nbformat": 4,
 "nbformat_minor": 2
}
