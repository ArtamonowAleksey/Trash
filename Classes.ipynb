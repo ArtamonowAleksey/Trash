{
 "cells": [
  {
   "cell_type": "code",
   "execution_count": 1,
   "metadata": {
    "ExecuteTime": {
     "end_time": "2020-01-18T11:02:58.541932Z",
     "start_time": "2020-01-18T11:02:58.510690Z"
    }
   },
   "outputs": [
    {
     "name": "stdout",
     "output_type": "stream",
     "text": [
      "bob\n"
     ]
    }
   ],
   "source": [
    "class my_class:\n",
    "    x=10\n",
    "\n",
    "c_1 = my_class()\n",
    "c_1.x = 'bob'\n",
    "print(c_1.x)"
   ]
  },
  {
   "cell_type": "code",
   "execution_count": 2,
   "metadata": {
    "ExecuteTime": {
     "end_time": "2020-01-18T11:07:48.918234Z",
     "start_time": "2020-01-18T11:07:48.887001Z"
    }
   },
   "outputs": [
    {
     "name": "stdout",
     "output_type": "stream",
     "text": [
      "Bob\n",
      "Female\n",
      "Russia\n"
     ]
    }
   ],
   "source": [
    "class Person:\n",
    "    def __init__(self,name,gender):\n",
    "        self.name = name\n",
    "        self.gender = gender\n",
    "        self.country = 'USA'\n",
    "\n",
    "person_1 = Person('Bob','Male')\n",
    "person_2 = Person('Kate','Female')\n",
    "person_1.country = 'Russia'\n",
    "\n",
    "\n",
    "print(person_1.name)\n",
    "print(person_2.gender)\n",
    "print(person_1.country)\n"
   ]
  },
  {
   "cell_type": "code",
   "execution_count": 9,
   "metadata": {
    "ExecuteTime": {
     "end_time": "2020-01-18T11:29:54.829436Z",
     "start_time": "2020-01-18T11:29:54.782553Z"
    }
   },
   "outputs": [
    {
     "data": {
      "text/plain": [
       "80"
      ]
     },
     "execution_count": 9,
     "metadata": {},
     "output_type": "execute_result"
    }
   ],
   "source": [
    "class Person:\n",
    "    def __init__(self,name,gender,age):\n",
    "        self.name = name\n",
    "        self.gender = gender\n",
    "        self.age = age\n",
    "        self.country = 'USA'\n",
    "    \n",
    "    def print_info(self):\n",
    "        print(f'{self.name}')\n",
    "        print(f'{self.gender}')\n",
    "        print(f'{self.age}')\n",
    "    \n",
    "    def grow_person(self,years_of_growth):\n",
    "        return self.age + years_of_growth\n",
    "    \n",
    "#def grow_person(current_age,years_of_growth):\n",
    "#    return current_age+years_of_growth\n",
    "\n",
    "person_1 = Person('Bob','Male',30)\n",
    "\n",
    "person_1.grow_person(50)\n",
    "#person_1.age = 40\n",
    "\n"
   ]
  },
  {
   "cell_type": "code",
   "execution_count": 17,
   "metadata": {
    "ExecuteTime": {
     "end_time": "2020-01-18T11:40:09.189984Z",
     "start_time": "2020-01-18T11:40:09.179056Z"
    }
   },
   "outputs": [
    {
     "name": "stdout",
     "output_type": "stream",
     "text": [
      "2\n"
     ]
    }
   ],
   "source": [
    "class new_class:\n",
    "    def __init__(self,x,y):\n",
    "        self.x = x\n",
    "        self.y = y\n",
    "    def summary(self):\n",
    "        return print(self.x+self.y)\n",
    "\n",
    "p  = new_class(1,1)\n",
    "\n",
    "p.summary()"
   ]
  },
  {
   "cell_type": "code",
   "execution_count": 1,
   "metadata": {
    "ExecuteTime": {
     "end_time": "2020-01-19T09:48:10.727612Z",
     "start_time": "2020-01-19T09:47:31.163727Z"
    }
   },
   "outputs": [],
   "source": [
    "import psycopg2 as ps\n",
    "import datetime as dt\n",
    "import pandas as pd"
   ]
  },
  {
   "cell_type": "code",
   "execution_count": 2,
   "metadata": {
    "ExecuteTime": {
     "end_time": "2020-01-19T09:50:09.403309Z",
     "start_time": "2020-01-19T09:50:09.340837Z"
    }
   },
   "outputs": [],
   "source": [
    "host = 'ec2-23-21-160-38.compute-1.amazonaws.com'\n",
    "database = 'd94s27rlljis6h'\n",
    "user = 'irtgegohcvsxfu'\n",
    "password = '7d8631d5596bf36330a9fd6c0a1a23f32d218e4fe635501ac43bf8ca65f3f354'\n",
    "port = '5432'\n",
    "\n",
    "# Таблица в БД куда все сохраняется и откуда выгружаются данные\n",
    "\n",
    "event_table = 'aa_events_links'"
   ]
  },
  {
   "cell_type": "code",
   "execution_count": 126,
   "metadata": {
    "ExecuteTime": {
     "end_time": "2020-01-18T20:24:24.179060Z",
     "start_time": "2020-01-18T20:24:24.147820Z"
    }
   },
   "outputs": [],
   "source": [
    "class db_actions:\n",
    "    \n",
    "    def __init__(self, host, database, user, password, port):\n",
    "        self.host = host\n",
    "        self.database = database\n",
    "        self.user = user\n",
    "        self.password = password\n",
    "        self.port = port\n",
    "    \n",
    "    def distinct_links_cat(self, table, column, cat):\n",
    "        conn = ps.connect(host=self.host, database=self.database, user=self.user, password=self.password,\n",
    "                          port=self.port)\n",
    "        conn.autocommit = True\n",
    "        query = f\"select distinct {column} from {table} where category = '{cat}'\"\n",
    "        sql_table = pd.read_sql(query, conn)\n",
    "        conn.close()\n",
    "        return list(sql_table[column])\n",
    "    \n",
    "    def distinct_links(self, table, column):\n",
    "        conn = ps.connect(host=self.host, database=self.database, user=self.user, password=self.password,\n",
    "                              port=self.port)\n",
    "        conn.autocommit = True\n",
    "        query = f\"select distinct {column} from {table}\"\n",
    "        sql_table = pd.read_sql(query, conn)\n",
    "        conn.close()\n",
    "        return list(sql_table[column])\n",
    "\n",
    "        \n"
   ]
  },
  {
   "cell_type": "code",
   "execution_count": 25,
   "metadata": {
    "ExecuteTime": {
     "end_time": "2020-01-19T10:02:05.017190Z",
     "start_time": "2020-01-19T10:02:04.997352Z"
    }
   },
   "outputs": [],
   "source": [
    "class connection_db:\n",
    "    def __init__(self, host, database, user, password, port):\n",
    "        self.host = host\n",
    "        self.database = database\n",
    "        self.user = user\n",
    "        self.password = password\n",
    "        self.port = port\n",
    "        self._conn = ps.connect(host=self.host, database=self.database, user=self.user, password=self.password,\n",
    "                          port=self.port)\n",
    "\n",
    "    def distinct_links(self, table, column):\n",
    "\n",
    "        query = f\"select distinct {column} from {table}\"\n",
    "        sql_table = pd.read_sql(query, self._conn)\n",
    "        \n",
    "        return list(sql_table[column])\n",
    "\n",
    "    def distinct_links_cat(self, table, column, cat):\n",
    "        \n",
    "        query = f\"select distinct {column} from {table} where category = '{cat}'\"\n",
    "        sql_table = pd.read_sql(query, self._conn)\n",
    "        \n",
    "        return list(sql_table[column])\n",
    "    \n",
    "    def __exit__(self):\n",
    "        self.commit()\n",
    "        self._conn.close()"
   ]
  },
  {
   "cell_type": "code",
   "execution_count": 26,
   "metadata": {
    "ExecuteTime": {
     "end_time": "2020-01-19T10:02:08.285912Z",
     "start_time": "2020-01-19T10:02:07.350572Z"
    }
   },
   "outputs": [],
   "source": [
    "P = connection_db(host, database, user, password, port)"
   ]
  },
  {
   "cell_type": "code",
   "execution_count": 27,
   "metadata": {
    "ExecuteTime": {
     "end_time": "2020-01-19T10:02:11.103891Z",
     "start_time": "2020-01-19T10:02:10.793946Z"
    }
   },
   "outputs": [],
   "source": [
    "L = P.distinct_links(event_table,'link')"
   ]
  },
  {
   "cell_type": "code",
   "execution_count": 21,
   "metadata": {
    "ExecuteTime": {
     "end_time": "2020-01-19T10:01:01.580016Z",
     "start_time": "2020-01-19T10:01:01.559095Z"
    }
   },
   "outputs": [
    {
     "ename": "NameError",
     "evalue": "name 'conn' is not defined",
     "output_type": "error",
     "traceback": [
      "\u001b[1;31m---------------------------------------------------------------------------\u001b[0m",
      "\u001b[1;31mNameError\u001b[0m                                 Traceback (most recent call last)",
      "\u001b[1;32m<ipython-input-21-ddae60ba9c88>\u001b[0m in \u001b[0;36m<module>\u001b[1;34m\u001b[0m\n\u001b[1;32m----> 1\u001b[1;33m \u001b[0mconn\u001b[0m\u001b[1;33m\u001b[0m\u001b[1;33m\u001b[0m\u001b[0m\n\u001b[0m",
      "\u001b[1;31mNameError\u001b[0m: name 'conn' is not defined"
     ]
    }
   ],
   "source": [
    "conn"
   ]
  }
 ],
 "metadata": {
  "kernelspec": {
   "display_name": "Python 3 (ipykernel)",
   "language": "python",
   "name": "python3"
  },
  "language_info": {
   "codemirror_mode": {
    "name": "ipython",
    "version": 3
   },
   "file_extension": ".py",
   "mimetype": "text/x-python",
   "name": "python",
   "nbconvert_exporter": "python",
   "pygments_lexer": "ipython3",
   "version": "3.9.12"
  }
 },
 "nbformat": 4,
 "nbformat_minor": 2
}
